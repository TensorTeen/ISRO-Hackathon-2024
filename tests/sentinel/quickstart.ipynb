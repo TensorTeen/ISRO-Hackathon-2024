{
 "cells": [
  {
   "cell_type": "code",
   "execution_count": 1,
   "metadata": {},
   "outputs": [],
   "source": [
    "from pystac_client import Client\n",
    "\n",
    "client = Client.open(\"https://earth-search.aws.element84.com/v1\")"
   ]
  },
  {
   "cell_type": "code",
   "execution_count": 2,
   "metadata": {},
   "outputs": [
    {
     "name": "stdout",
     "output_type": "stream",
     "text": [
      "5130 items found\n"
     ]
    }
   ],
   "source": [
    "search = client.search(\n",
    "    max_items=10,\n",
    "    collections=['sentinel-2-l2a'],\n",
    "    bbox=[-72.5,40.5,-72,41]\n",
    ")\n",
    "print(f\"{search.matched()} items found\")"
   ]
  },
  {
   "cell_type": "code",
   "execution_count": 3,
   "metadata": {},
   "outputs": [
    {
     "name": "stdout",
     "output_type": "stream",
     "text": [
      "S2A_18TYK_20240811_0_L2A\n",
      "S2A_19TBE_20240811_0_L2A\n",
      "S2A_18TYL_20240811_0_L2A\n",
      "S2A_19TBF_20240811_0_L2A\n",
      "S2B_18TYK_20240809_0_L2A\n",
      "S2B_19TBE_20240809_0_L2A\n",
      "S2B_18TYL_20240809_0_L2A\n",
      "S2B_19TBF_20240809_0_L2A\n",
      "S2B_18TYK_20240806_0_L2A\n",
      "S2B_19TBE_20240806_0_L2A\n"
     ]
    }
   ],
   "source": [
    "for item in search.items():\n",
    "    print(item.id)"
   ]
  },
  {
   "cell_type": "code",
   "execution_count": 4,
   "metadata": {},
   "outputs": [],
   "source": [
    "item_collection = search.item_collection()\n",
    "item_collection.save_object('my_itemcollection.json')"
   ]
  }
 ],
 "metadata": {
  "kernelspec": {
   "display_name": "isro_geospatial_data_retrieval",
   "language": "python",
   "name": "python3"
  },
  "language_info": {
   "codemirror_mode": {
    "name": "ipython",
    "version": 3
   },
   "file_extension": ".py",
   "mimetype": "text/x-python",
   "name": "python",
   "nbconvert_exporter": "python",
   "pygments_lexer": "ipython3",
   "version": "3.12.0"
  }
 },
 "nbformat": 4,
 "nbformat_minor": 2
}

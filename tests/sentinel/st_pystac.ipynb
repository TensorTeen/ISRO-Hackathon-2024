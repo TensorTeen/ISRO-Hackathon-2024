{
 "cells": [
  {
   "cell_type": "code",
   "execution_count": null,
   "metadata": {},
   "outputs": [],
   "source": [
    "import streamlit as st\n",
    "import pandas as pd\n",
    "import numpy as np\n",
    "import matplotlib.pyplot as plt\n",
    "from st_files_connection import FilesConnection\n",
    "from pystac_client import Client\n",
    "from odc.stac import load\n",
    "import hmac"
   ]
  },
  {
   "cell_type": "code",
   "execution_count": null,
   "metadata": {},
   "outputs": [],
   "source": [
    "item_collection = search.item_collection()\n",
    "item_collection.save_object('my_itemcollection.json')"
   ]
  }
 ],
 "metadata": {
  "kernelspec": {
   "display_name": "isro_geospatial_data_retrieval",
   "language": "python",
   "name": "python3"
  },
  "language_info": {
   "name": "python",
   "version": "3.12.0"
  }
 },
 "nbformat": 4,
 "nbformat_minor": 2
}

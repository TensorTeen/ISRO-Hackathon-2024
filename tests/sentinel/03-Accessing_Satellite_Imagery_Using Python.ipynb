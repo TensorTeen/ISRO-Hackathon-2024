{
  "cells": [
    {
      "cell_type": "markdown",
      "metadata": {
        "colab_type": "text",
        "id": "view-in-github"
      },
      "source": [
        "<a href=\"https://colab.research.google.com/github/KimutaiLawrence/Geospatial-Data-Science/blob/main/Accessing_Satellite_Imagery_Using%C2%A0Python.ipynb\" target=\"_parent\"><img src=\"https://colab.research.google.com/assets/colab-badge.svg\" alt=\"Open In Colab\"/></a>"
      ]
    },
    {
      "cell_type": "markdown",
      "metadata": {
        "id": "2662988b"
      },
      "source": [
        "Accessing data: We will use Sentinel 2 data. There are many options to access Sentinel 2 images and \n",
        "most of them will require you to access through website interaction whether directly via a downloading service utility \n",
        "or via the cloud. However, since we are using Jupyter notebook, we will access them right here using, sentinelsat a python \n",
        "library which makes searching, retrieving and downloading Sentinel satellite images easy. So let us start installing \n",
        "sentinelsat through pip. We also install other packages that we will use as we continue."
      ]
    },
    {
      "cell_type": "code",
      "execution_count": 1,
      "metadata": {
        "colab": {
          "base_uri": "https://localhost:8080/"
        },
        "id": "02a8e489",
        "outputId": "d2f410a3-f25a-49bc-cf27-86a532d13d77"
      },
      "outputs": [],
      "source": [
        "# !pip install sentinelsat\n",
        "# !pip install folium\n",
        "# !pip install descartes\n",
        "# !pip install rasterio\n",
        "# !pip install wget\n",
        "# !pip install geopandas\n",
        "# !pip install pandas"
      ]
    },
    {
      "cell_type": "code",
      "execution_count": 2,
      "metadata": {
        "id": "6fd9e2ce"
      },
      "outputs": [],
      "source": [
        "import folium\n",
        "import os\n",
        "import numpy as np\n",
        "from dotenv import load_dotenv\n",
        "\n",
        "from sentinelsat import SentinelAPI, read_geojson, geojson_to_wkt \n",
        "import geopandas as gpd\n",
        "import pandas as pd\n",
        "import numpy as np\n",
        "import rasterio\n",
        "import matplotlib.pyplot as plt\n",
        "\n",
        "from shapely.geometry import MultiPolygon, Polygon\n",
        "import fiona\n",
        "import wget"
      ]
    },
    {
      "cell_type": "markdown",
      "metadata": {
        "id": "e9a62342"
      },
      "source": [
        "Before we are able to use sentinelsat, we need to register a username in Copernicus Open Access Hub and note down your username \n",
        "and password and paste them here inside the code."
      ]
    },
    {
      "cell_type": "code",
      "execution_count": 3,
      "metadata": {
        "id": "d4af30e1"
      },
      "outputs": [],
      "source": [
        "from sentinelsat import SentinelAPI\n",
        "\n",
        "load_dotenv()\n",
        "user = os.environ['SENTINEL_ID']\n",
        "password = os.environ['SENTINEL_SECRET']\n",
        "api = SentinelAPI(user, password, 'https://scihub.copernicus.eu/dhus')"
      ]
    },
    {
      "cell_type": "markdown",
      "metadata": {
        "id": "19071542"
      },
      "source": [
        "You are set to use sentinelsat and download Sentinel Satellite images.We then use boundary data from Lagos City, Nigeria. I uploaded the boundary for Lagos city,Nigeria here on google colab . We thus access the boundary data(Lagos shapefile) via the Lagos shapefile path and we will read it with Geopandas and visualize it with Folium python library."
      ]
    },
    {
      "cell_type": "code",
      "execution_count": 4,
      "metadata": {
        "colab": {
          "base_uri": "https://localhost:8080/",
          "height": 719
        },
        "id": "e50b19d2",
        "outputId": "70214af9-bc9a-4f22-ff3a-3f56177a7a11"
      },
      "outputs": [
        {
          "name": "stdout",
          "output_type": "stream",
          "text": [
            "Installing geopandas...\n",
            "Loading Shapefile...\n"
          ]
        },
        {
          "ename": "DataSourceError",
          "evalue": "'/content/Lagosnigeria.shp' does not exist in the file system, and is not recognized as a supported dataset name.",
          "output_type": "error",
          "traceback": [
            "\u001b[1;31m---------------------------------------------------------------------------\u001b[0m",
            "\u001b[1;31mDataSourceError\u001b[0m                           Traceback (most recent call last)",
            "Cell \u001b[1;32mIn[4], line 17\u001b[0m\n\u001b[0;32m     12\u001b[0m \u001b[38;5;28mprint\u001b[39m(\u001b[38;5;124m\"\u001b[39m\u001b[38;5;124mLoading Shapefile...\u001b[39m\u001b[38;5;124m\"\u001b[39m)\n\u001b[0;32m     14\u001b[0m \u001b[38;5;66;03m# If using your files, replace below filename (\"/content/Lagosnigeria.shp\") with the \u001b[39;00m\n\u001b[0;32m     15\u001b[0m \u001b[38;5;66;03m# shapefile filename you uploaded. \u001b[39;00m\n\u001b[1;32m---> 17\u001b[0m shapefile \u001b[38;5;241m=\u001b[39m \u001b[43mgpd\u001b[49m\u001b[38;5;241;43m.\u001b[39;49m\u001b[43mread_file\u001b[49m\u001b[43m(\u001b[49m\u001b[38;5;124;43m\"\u001b[39;49m\u001b[38;5;124;43m/content/Lagosnigeria.shp\u001b[39;49m\u001b[38;5;124;43m\"\u001b[39;49m\u001b[43m)\u001b[49m\n\u001b[0;32m     19\u001b[0m \u001b[38;5;66;03m# The \"head\" function prints out the first five rows in full, so you can see\u001b[39;00m\n\u001b[0;32m     20\u001b[0m \u001b[38;5;66;03m# the columns in the data set too! \u001b[39;00m\n\u001b[0;32m     22\u001b[0m shapefile\u001b[38;5;241m.\u001b[39mhead()\n",
            "File \u001b[1;32md:\\virtual_environments\\isro_geospatial_data_retrieval\\Lib\\site-packages\\geopandas\\io\\file.py:294\u001b[0m, in \u001b[0;36m_read_file\u001b[1;34m(filename, bbox, mask, columns, rows, engine, **kwargs)\u001b[0m\n\u001b[0;32m    291\u001b[0m             from_bytes \u001b[38;5;241m=\u001b[39m \u001b[38;5;28;01mTrue\u001b[39;00m\n\u001b[0;32m    293\u001b[0m \u001b[38;5;28;01mif\u001b[39;00m engine \u001b[38;5;241m==\u001b[39m \u001b[38;5;124m\"\u001b[39m\u001b[38;5;124mpyogrio\u001b[39m\u001b[38;5;124m\"\u001b[39m:\n\u001b[1;32m--> 294\u001b[0m     \u001b[38;5;28;01mreturn\u001b[39;00m \u001b[43m_read_file_pyogrio\u001b[49m\u001b[43m(\u001b[49m\n\u001b[0;32m    295\u001b[0m \u001b[43m        \u001b[49m\u001b[43mfilename\u001b[49m\u001b[43m,\u001b[49m\u001b[43m \u001b[49m\u001b[43mbbox\u001b[49m\u001b[38;5;241;43m=\u001b[39;49m\u001b[43mbbox\u001b[49m\u001b[43m,\u001b[49m\u001b[43m \u001b[49m\u001b[43mmask\u001b[49m\u001b[38;5;241;43m=\u001b[39;49m\u001b[43mmask\u001b[49m\u001b[43m,\u001b[49m\u001b[43m \u001b[49m\u001b[43mcolumns\u001b[49m\u001b[38;5;241;43m=\u001b[39;49m\u001b[43mcolumns\u001b[49m\u001b[43m,\u001b[49m\u001b[43m \u001b[49m\u001b[43mrows\u001b[49m\u001b[38;5;241;43m=\u001b[39;49m\u001b[43mrows\u001b[49m\u001b[43m,\u001b[49m\u001b[43m \u001b[49m\u001b[38;5;241;43m*\u001b[39;49m\u001b[38;5;241;43m*\u001b[39;49m\u001b[43mkwargs\u001b[49m\n\u001b[0;32m    296\u001b[0m \u001b[43m    \u001b[49m\u001b[43m)\u001b[49m\n\u001b[0;32m    298\u001b[0m \u001b[38;5;28;01melif\u001b[39;00m engine \u001b[38;5;241m==\u001b[39m \u001b[38;5;124m\"\u001b[39m\u001b[38;5;124mfiona\u001b[39m\u001b[38;5;124m\"\u001b[39m:\n\u001b[0;32m    299\u001b[0m     \u001b[38;5;28;01mif\u001b[39;00m pd\u001b[38;5;241m.\u001b[39mapi\u001b[38;5;241m.\u001b[39mtypes\u001b[38;5;241m.\u001b[39mis_file_like(filename):\n",
            "File \u001b[1;32md:\\virtual_environments\\isro_geospatial_data_retrieval\\Lib\\site-packages\\geopandas\\io\\file.py:547\u001b[0m, in \u001b[0;36m_read_file_pyogrio\u001b[1;34m(path_or_bytes, bbox, mask, rows, **kwargs)\u001b[0m\n\u001b[0;32m    538\u001b[0m     warnings\u001b[38;5;241m.\u001b[39mwarn(\n\u001b[0;32m    539\u001b[0m         \u001b[38;5;124m\"\u001b[39m\u001b[38;5;124mThe \u001b[39m\u001b[38;5;124m'\u001b[39m\u001b[38;5;124minclude_fields\u001b[39m\u001b[38;5;124m'\u001b[39m\u001b[38;5;124m and \u001b[39m\u001b[38;5;124m'\u001b[39m\u001b[38;5;124mignore_fields\u001b[39m\u001b[38;5;124m'\u001b[39m\u001b[38;5;124m keywords are deprecated, and \u001b[39m\u001b[38;5;124m\"\u001b[39m\n\u001b[0;32m    540\u001b[0m         \u001b[38;5;124m\"\u001b[39m\u001b[38;5;124mwill be removed in a future release. You can use the \u001b[39m\u001b[38;5;124m'\u001b[39m\u001b[38;5;124mcolumns\u001b[39m\u001b[38;5;124m'\u001b[39m\u001b[38;5;124m keyword \u001b[39m\u001b[38;5;124m\"\u001b[39m\n\u001b[1;32m   (...)\u001b[0m\n\u001b[0;32m    543\u001b[0m         stacklevel\u001b[38;5;241m=\u001b[39m\u001b[38;5;241m3\u001b[39m,\n\u001b[0;32m    544\u001b[0m     )\n\u001b[0;32m    545\u001b[0m     kwargs[\u001b[38;5;124m\"\u001b[39m\u001b[38;5;124mcolumns\u001b[39m\u001b[38;5;124m\"\u001b[39m] \u001b[38;5;241m=\u001b[39m kwargs\u001b[38;5;241m.\u001b[39mpop(\u001b[38;5;124m\"\u001b[39m\u001b[38;5;124minclude_fields\u001b[39m\u001b[38;5;124m\"\u001b[39m)\n\u001b[1;32m--> 547\u001b[0m \u001b[38;5;28;01mreturn\u001b[39;00m \u001b[43mpyogrio\u001b[49m\u001b[38;5;241;43m.\u001b[39;49m\u001b[43mread_dataframe\u001b[49m\u001b[43m(\u001b[49m\u001b[43mpath_or_bytes\u001b[49m\u001b[43m,\u001b[49m\u001b[43m \u001b[49m\u001b[43mbbox\u001b[49m\u001b[38;5;241;43m=\u001b[39;49m\u001b[43mbbox\u001b[49m\u001b[43m,\u001b[49m\u001b[43m \u001b[49m\u001b[38;5;241;43m*\u001b[39;49m\u001b[38;5;241;43m*\u001b[39;49m\u001b[43mkwargs\u001b[49m\u001b[43m)\u001b[49m\n",
            "File \u001b[1;32md:\\virtual_environments\\isro_geospatial_data_retrieval\\Lib\\site-packages\\pyogrio\\geopandas.py:261\u001b[0m, in \u001b[0;36mread_dataframe\u001b[1;34m(path_or_buffer, layer, encoding, columns, read_geometry, force_2d, skip_features, max_features, where, bbox, mask, fids, sql, sql_dialect, fid_as_index, use_arrow, on_invalid, arrow_to_pandas_kwargs, **kwargs)\u001b[0m\n\u001b[0;32m    256\u001b[0m \u001b[38;5;28;01mif\u001b[39;00m \u001b[38;5;129;01mnot\u001b[39;00m use_arrow:\n\u001b[0;32m    257\u001b[0m     \u001b[38;5;66;03m# For arrow, datetimes are read as is.\u001b[39;00m\n\u001b[0;32m    258\u001b[0m     \u001b[38;5;66;03m# For numpy IO, datetimes are read as string values to preserve timezone info\u001b[39;00m\n\u001b[0;32m    259\u001b[0m     \u001b[38;5;66;03m# as numpy does not directly support timezones.\u001b[39;00m\n\u001b[0;32m    260\u001b[0m     kwargs[\u001b[38;5;124m\"\u001b[39m\u001b[38;5;124mdatetime_as_string\u001b[39m\u001b[38;5;124m\"\u001b[39m] \u001b[38;5;241m=\u001b[39m \u001b[38;5;28;01mTrue\u001b[39;00m\n\u001b[1;32m--> 261\u001b[0m result \u001b[38;5;241m=\u001b[39m \u001b[43mread_func\u001b[49m\u001b[43m(\u001b[49m\n\u001b[0;32m    262\u001b[0m \u001b[43m    \u001b[49m\u001b[43mpath_or_buffer\u001b[49m\u001b[43m,\u001b[49m\n\u001b[0;32m    263\u001b[0m \u001b[43m    \u001b[49m\u001b[43mlayer\u001b[49m\u001b[38;5;241;43m=\u001b[39;49m\u001b[43mlayer\u001b[49m\u001b[43m,\u001b[49m\n\u001b[0;32m    264\u001b[0m \u001b[43m    \u001b[49m\u001b[43mencoding\u001b[49m\u001b[38;5;241;43m=\u001b[39;49m\u001b[43mencoding\u001b[49m\u001b[43m,\u001b[49m\n\u001b[0;32m    265\u001b[0m \u001b[43m    \u001b[49m\u001b[43mcolumns\u001b[49m\u001b[38;5;241;43m=\u001b[39;49m\u001b[43mcolumns\u001b[49m\u001b[43m,\u001b[49m\n\u001b[0;32m    266\u001b[0m \u001b[43m    \u001b[49m\u001b[43mread_geometry\u001b[49m\u001b[38;5;241;43m=\u001b[39;49m\u001b[43mread_geometry\u001b[49m\u001b[43m,\u001b[49m\n\u001b[0;32m    267\u001b[0m \u001b[43m    \u001b[49m\u001b[43mforce_2d\u001b[49m\u001b[38;5;241;43m=\u001b[39;49m\u001b[43mgdal_force_2d\u001b[49m\u001b[43m,\u001b[49m\n\u001b[0;32m    268\u001b[0m \u001b[43m    \u001b[49m\u001b[43mskip_features\u001b[49m\u001b[38;5;241;43m=\u001b[39;49m\u001b[43mskip_features\u001b[49m\u001b[43m,\u001b[49m\n\u001b[0;32m    269\u001b[0m \u001b[43m    \u001b[49m\u001b[43mmax_features\u001b[49m\u001b[38;5;241;43m=\u001b[39;49m\u001b[43mmax_features\u001b[49m\u001b[43m,\u001b[49m\n\u001b[0;32m    270\u001b[0m \u001b[43m    \u001b[49m\u001b[43mwhere\u001b[49m\u001b[38;5;241;43m=\u001b[39;49m\u001b[43mwhere\u001b[49m\u001b[43m,\u001b[49m\n\u001b[0;32m    271\u001b[0m \u001b[43m    \u001b[49m\u001b[43mbbox\u001b[49m\u001b[38;5;241;43m=\u001b[39;49m\u001b[43mbbox\u001b[49m\u001b[43m,\u001b[49m\n\u001b[0;32m    272\u001b[0m \u001b[43m    \u001b[49m\u001b[43mmask\u001b[49m\u001b[38;5;241;43m=\u001b[39;49m\u001b[43mmask\u001b[49m\u001b[43m,\u001b[49m\n\u001b[0;32m    273\u001b[0m \u001b[43m    \u001b[49m\u001b[43mfids\u001b[49m\u001b[38;5;241;43m=\u001b[39;49m\u001b[43mfids\u001b[49m\u001b[43m,\u001b[49m\n\u001b[0;32m    274\u001b[0m \u001b[43m    \u001b[49m\u001b[43msql\u001b[49m\u001b[38;5;241;43m=\u001b[39;49m\u001b[43msql\u001b[49m\u001b[43m,\u001b[49m\n\u001b[0;32m    275\u001b[0m \u001b[43m    \u001b[49m\u001b[43msql_dialect\u001b[49m\u001b[38;5;241;43m=\u001b[39;49m\u001b[43msql_dialect\u001b[49m\u001b[43m,\u001b[49m\n\u001b[0;32m    276\u001b[0m \u001b[43m    \u001b[49m\u001b[43mreturn_fids\u001b[49m\u001b[38;5;241;43m=\u001b[39;49m\u001b[43mfid_as_index\u001b[49m\u001b[43m,\u001b[49m\n\u001b[0;32m    277\u001b[0m \u001b[43m    \u001b[49m\u001b[38;5;241;43m*\u001b[39;49m\u001b[38;5;241;43m*\u001b[39;49m\u001b[43mkwargs\u001b[49m\u001b[43m,\u001b[49m\n\u001b[0;32m    278\u001b[0m \u001b[43m\u001b[49m\u001b[43m)\u001b[49m\n\u001b[0;32m    280\u001b[0m \u001b[38;5;28;01mif\u001b[39;00m use_arrow:\n\u001b[0;32m    281\u001b[0m     meta, table \u001b[38;5;241m=\u001b[39m result\n",
            "File \u001b[1;32md:\\virtual_environments\\isro_geospatial_data_retrieval\\Lib\\site-packages\\pyogrio\\raw.py:196\u001b[0m, in \u001b[0;36mread\u001b[1;34m(path_or_buffer, layer, encoding, columns, read_geometry, force_2d, skip_features, max_features, where, bbox, mask, fids, sql, sql_dialect, return_fids, datetime_as_string, **kwargs)\u001b[0m\n\u001b[0;32m     56\u001b[0m \u001b[38;5;250m\u001b[39m\u001b[38;5;124;03m\"\"\"Read OGR data source into numpy arrays.\u001b[39;00m\n\u001b[0;32m     57\u001b[0m \n\u001b[0;32m     58\u001b[0m \u001b[38;5;124;03mIMPORTANT: non-linear geometry types (e.g., MultiSurface) are converted\u001b[39;00m\n\u001b[1;32m   (...)\u001b[0m\n\u001b[0;32m    191\u001b[0m \n\u001b[0;32m    192\u001b[0m \u001b[38;5;124;03m\"\"\"\u001b[39;00m\n\u001b[0;32m    194\u001b[0m dataset_kwargs \u001b[38;5;241m=\u001b[39m _preprocess_options_key_value(kwargs) \u001b[38;5;28;01mif\u001b[39;00m kwargs \u001b[38;5;28;01melse\u001b[39;00m {}\n\u001b[1;32m--> 196\u001b[0m \u001b[38;5;28;01mreturn\u001b[39;00m \u001b[43mogr_read\u001b[49m\u001b[43m(\u001b[49m\n\u001b[0;32m    197\u001b[0m \u001b[43m    \u001b[49m\u001b[43mget_vsi_path_or_buffer\u001b[49m\u001b[43m(\u001b[49m\u001b[43mpath_or_buffer\u001b[49m\u001b[43m)\u001b[49m\u001b[43m,\u001b[49m\n\u001b[0;32m    198\u001b[0m \u001b[43m    \u001b[49m\u001b[43mlayer\u001b[49m\u001b[38;5;241;43m=\u001b[39;49m\u001b[43mlayer\u001b[49m\u001b[43m,\u001b[49m\n\u001b[0;32m    199\u001b[0m \u001b[43m    \u001b[49m\u001b[43mencoding\u001b[49m\u001b[38;5;241;43m=\u001b[39;49m\u001b[43mencoding\u001b[49m\u001b[43m,\u001b[49m\n\u001b[0;32m    200\u001b[0m \u001b[43m    \u001b[49m\u001b[43mcolumns\u001b[49m\u001b[38;5;241;43m=\u001b[39;49m\u001b[43mcolumns\u001b[49m\u001b[43m,\u001b[49m\n\u001b[0;32m    201\u001b[0m \u001b[43m    \u001b[49m\u001b[43mread_geometry\u001b[49m\u001b[38;5;241;43m=\u001b[39;49m\u001b[43mread_geometry\u001b[49m\u001b[43m,\u001b[49m\n\u001b[0;32m    202\u001b[0m \u001b[43m    \u001b[49m\u001b[43mforce_2d\u001b[49m\u001b[38;5;241;43m=\u001b[39;49m\u001b[43mforce_2d\u001b[49m\u001b[43m,\u001b[49m\n\u001b[0;32m    203\u001b[0m \u001b[43m    \u001b[49m\u001b[43mskip_features\u001b[49m\u001b[38;5;241;43m=\u001b[39;49m\u001b[43mskip_features\u001b[49m\u001b[43m,\u001b[49m\n\u001b[0;32m    204\u001b[0m \u001b[43m    \u001b[49m\u001b[43mmax_features\u001b[49m\u001b[38;5;241;43m=\u001b[39;49m\u001b[43mmax_features\u001b[49m\u001b[43m \u001b[49m\u001b[38;5;129;43;01mor\u001b[39;49;00m\u001b[43m \u001b[49m\u001b[38;5;241;43m0\u001b[39;49m\u001b[43m,\u001b[49m\n\u001b[0;32m    205\u001b[0m \u001b[43m    \u001b[49m\u001b[43mwhere\u001b[49m\u001b[38;5;241;43m=\u001b[39;49m\u001b[43mwhere\u001b[49m\u001b[43m,\u001b[49m\n\u001b[0;32m    206\u001b[0m \u001b[43m    \u001b[49m\u001b[43mbbox\u001b[49m\u001b[38;5;241;43m=\u001b[39;49m\u001b[43mbbox\u001b[49m\u001b[43m,\u001b[49m\n\u001b[0;32m    207\u001b[0m \u001b[43m    \u001b[49m\u001b[43mmask\u001b[49m\u001b[38;5;241;43m=\u001b[39;49m\u001b[43m_mask_to_wkb\u001b[49m\u001b[43m(\u001b[49m\u001b[43mmask\u001b[49m\u001b[43m)\u001b[49m\u001b[43m,\u001b[49m\n\u001b[0;32m    208\u001b[0m \u001b[43m    \u001b[49m\u001b[43mfids\u001b[49m\u001b[38;5;241;43m=\u001b[39;49m\u001b[43mfids\u001b[49m\u001b[43m,\u001b[49m\n\u001b[0;32m    209\u001b[0m \u001b[43m    \u001b[49m\u001b[43msql\u001b[49m\u001b[38;5;241;43m=\u001b[39;49m\u001b[43msql\u001b[49m\u001b[43m,\u001b[49m\n\u001b[0;32m    210\u001b[0m \u001b[43m    \u001b[49m\u001b[43msql_dialect\u001b[49m\u001b[38;5;241;43m=\u001b[39;49m\u001b[43msql_dialect\u001b[49m\u001b[43m,\u001b[49m\n\u001b[0;32m    211\u001b[0m \u001b[43m    \u001b[49m\u001b[43mreturn_fids\u001b[49m\u001b[38;5;241;43m=\u001b[39;49m\u001b[43mreturn_fids\u001b[49m\u001b[43m,\u001b[49m\n\u001b[0;32m    212\u001b[0m \u001b[43m    \u001b[49m\u001b[43mdataset_kwargs\u001b[49m\u001b[38;5;241;43m=\u001b[39;49m\u001b[43mdataset_kwargs\u001b[49m\u001b[43m,\u001b[49m\n\u001b[0;32m    213\u001b[0m \u001b[43m    \u001b[49m\u001b[43mdatetime_as_string\u001b[49m\u001b[38;5;241;43m=\u001b[39;49m\u001b[43mdatetime_as_string\u001b[49m\u001b[43m,\u001b[49m\n\u001b[0;32m    214\u001b[0m \u001b[43m\u001b[49m\u001b[43m)\u001b[49m\n",
            "File \u001b[1;32md:\\virtual_environments\\isro_geospatial_data_retrieval\\Lib\\site-packages\\pyogrio\\_io.pyx:1239\u001b[0m, in \u001b[0;36mpyogrio._io.ogr_read\u001b[1;34m()\u001b[0m\n",
            "File \u001b[1;32md:\\virtual_environments\\isro_geospatial_data_retrieval\\Lib\\site-packages\\pyogrio\\_io.pyx:219\u001b[0m, in \u001b[0;36mpyogrio._io.ogr_open\u001b[1;34m()\u001b[0m\n",
            "\u001b[1;31mDataSourceError\u001b[0m: '/content/Lagosnigeria.shp' does not exist in the file system, and is not recognized as a supported dataset name."
          ]
        }
      ],
      "source": [
        "\n",
        "print(\"Installing geopandas...\")\n",
        "\n",
        "# We need to install geopandas and descartes using PIP because they are \n",
        "# not installed on Jupyter by default. \n",
        "\n",
        "\n",
        "import geopandas as gpd\n",
        "\n",
        "# Next, print out the shapefile. \n",
        "# It won't look like much because we are looking at geographic coordinates. \n",
        "\n",
        "print(\"Loading Shapefile...\")\n",
        "\n",
        "# If using your files, replace below filename (\"/content/Lagosnigeria.shp\") with the \n",
        "# shapefile filename you uploaded. \n",
        "\n",
        "shapefile = gpd.read_file(\"/content/Lagosnigeria.shp\")\n",
        "\n",
        "# The \"head\" function prints out the first five rows in full, so you can see\n",
        "# the columns in the data set too! \n",
        "\n",
        "shapefile.head()"
      ]
    },
    {
      "cell_type": "markdown",
      "metadata": {
        "id": "4a99ea05"
      },
      "source": [
        "One last step before we can search and download sentinel 2 images is to create a footprint from the Lagos Shapefile Geometry. \n",
        "Here we will use Shapely Python library since our data is in Shapefiles and have read it already as Geopandas GeodataFrame. \n",
        "(Note that if you have Geojson data, sentinelsatprovides a handy way to convert your data into a proper format in the query)."
      ]
    },
    {
      "cell_type": "code",
      "execution_count": null,
      "metadata": {
        "id": "2cdc42f0"
      },
      "outputs": [],
      "source": [
        "from shapely.geometry import MultiPolygon, Polygon\n",
        "\n",
        "footprint = None\n",
        "for i in shapefile['geometry']:\n",
        "    footprint = i"
      ]
    },
    {
      "cell_type": "markdown",
      "metadata": {
        "id": "f9339553"
      },
      "source": [
        "Now we can run a query on the api we have created above. There are different ways you can construct your query here depending on your use case. In this example, we will create a query for Sentinel 2 images Level 2A with cloud coverage between 0 and 10 \n",
        "that fall or intersect with the footprint (Area of study:\"in our case Lagos City\"). For the time period, we are interested only in Sentinel Level 2A satellite images taken between ‘20220101’ and ‘20220120’ (For reference on valid search queries please refer to scihub)."
      ]
    },
    {
      "cell_type": "code",
      "execution_count": null,
      "metadata": {
        "id": "5a777bef"
      },
      "outputs": [],
      "source": [
        "products = api.query(footprint,\n",
        "                     date = ('20190101', '20190110'),\n",
        "                     platformname = 'Sentinel-2',\n",
        "                     processinglevel = 'Level-2A',\n",
        "                     cloudcoverpercentage = (0,10)\n",
        "                    )"
      ]
    },
    {
      "cell_type": "markdown",
      "metadata": {
        "id": "fbee93ae"
      },
      "source": [
        "Sorting the Sentinel 2 data "
      ]
    },
    {
      "cell_type": "code",
      "execution_count": null,
      "metadata": {
        "colab": {
          "base_uri": "https://localhost:8080/",
          "height": 379
        },
        "id": "de090293",
        "outputId": "9aa8b410-fac7-4141-bdd4-2bf96d364fea"
      },
      "outputs": [
        {
          "data": {
            "text/html": [
              "\n",
              "  <div id=\"df-34e0c2b1-e4b8-4929-aa92-9a75c739c2f5\">\n",
              "    <div class=\"colab-df-container\">\n",
              "      <div>\n",
              "<style scoped>\n",
              "    .dataframe tbody tr th:only-of-type {\n",
              "        vertical-align: middle;\n",
              "    }\n",
              "\n",
              "    .dataframe tbody tr th {\n",
              "        vertical-align: top;\n",
              "    }\n",
              "\n",
              "    .dataframe thead th {\n",
              "        text-align: right;\n",
              "    }\n",
              "</style>\n",
              "<table border=\"1\" class=\"dataframe\">\n",
              "  <thead>\n",
              "    <tr style=\"text-align: right;\">\n",
              "      <th></th>\n",
              "      <th>title</th>\n",
              "      <th>link</th>\n",
              "      <th>link_alternative</th>\n",
              "      <th>link_icon</th>\n",
              "      <th>summary</th>\n",
              "      <th>ondemand</th>\n",
              "      <th>ingestiondate</th>\n",
              "      <th>beginposition</th>\n",
              "      <th>endposition</th>\n",
              "      <th>orbitnumber</th>\n",
              "      <th>...</th>\n",
              "      <th>platformidentifier</th>\n",
              "      <th>orbitdirection</th>\n",
              "      <th>platformserialidentifier</th>\n",
              "      <th>processingbaseline</th>\n",
              "      <th>processinglevel</th>\n",
              "      <th>producttype</th>\n",
              "      <th>platformname</th>\n",
              "      <th>size</th>\n",
              "      <th>uuid</th>\n",
              "      <th>geometry</th>\n",
              "    </tr>\n",
              "  </thead>\n",
              "  <tbody>\n",
              "    <tr>\n",
              "      <th>4f92eb8c-4239-4364-9ffc-a0b0bbabc535</th>\n",
              "      <td>S2B_MSIL2A_20190106T100409_N0211_R122_T31NEH_2...</td>\n",
              "      <td>https://scihub.copernicus.eu/dhus/odata/v1/Pro...</td>\n",
              "      <td>https://scihub.copernicus.eu/dhus/odata/v1/Pro...</td>\n",
              "      <td>https://scihub.copernicus.eu/dhus/odata/v1/Pro...</td>\n",
              "      <td>Date: 2019-01-06T10:04:09.024Z, Instrument: MS...</td>\n",
              "      <td>false</td>\n",
              "      <td>2019-01-06 20:53:21.770</td>\n",
              "      <td>2019-01-06 10:04:09.024</td>\n",
              "      <td>2019-01-06 10:04:09.024</td>\n",
              "      <td>9586</td>\n",
              "      <td>...</td>\n",
              "      <td>2017-013A</td>\n",
              "      <td>DESCENDING</td>\n",
              "      <td>Sentinel-2B</td>\n",
              "      <td>02.11</td>\n",
              "      <td>Level-2A</td>\n",
              "      <td>S2MSI2A</td>\n",
              "      <td>Sentinel-2</td>\n",
              "      <td>1.02 GB</td>\n",
              "      <td>4f92eb8c-4239-4364-9ffc-a0b0bbabc535</td>\n",
              "      <td>POLYGON ((2.99982 7.23783, 3.99439 7.23674, 3....</td>\n",
              "    </tr>\n",
              "    <tr>\n",
              "      <th>ab40b37d-d1ae-4592-bb01-3ed0adf2527a</th>\n",
              "      <td>S2A_MSIL2A_20190101T100411_N0211_R122_T31NEH_2...</td>\n",
              "      <td>https://scihub.copernicus.eu/dhus/odata/v1/Pro...</td>\n",
              "      <td>https://scihub.copernicus.eu/dhus/odata/v1/Pro...</td>\n",
              "      <td>https://scihub.copernicus.eu/dhus/odata/v1/Pro...</td>\n",
              "      <td>Date: 2019-01-01T10:04:11.024Z, Instrument: MS...</td>\n",
              "      <td>false</td>\n",
              "      <td>2019-01-01 15:54:36.102</td>\n",
              "      <td>2019-01-01 10:04:11.024</td>\n",
              "      <td>2019-01-01 10:04:11.024</td>\n",
              "      <td>18423</td>\n",
              "      <td>...</td>\n",
              "      <td>2015-028A</td>\n",
              "      <td>DESCENDING</td>\n",
              "      <td>Sentinel-2A</td>\n",
              "      <td>02.11</td>\n",
              "      <td>Level-2A</td>\n",
              "      <td>S2MSI2A</td>\n",
              "      <td>Sentinel-2</td>\n",
              "      <td>1.02 GB</td>\n",
              "      <td>ab40b37d-d1ae-4592-bb01-3ed0adf2527a</td>\n",
              "      <td>POLYGON ((2.99982 7.23783, 3.99439 7.23674, 3....</td>\n",
              "    </tr>\n",
              "  </tbody>\n",
              "</table>\n",
              "<p>2 rows × 35 columns</p>\n",
              "</div>\n",
              "      <button class=\"colab-df-convert\" onclick=\"convertToInteractive('df-34e0c2b1-e4b8-4929-aa92-9a75c739c2f5')\"\n",
              "              title=\"Convert this dataframe to an interactive table.\"\n",
              "              style=\"display:none;\">\n",
              "        \n",
              "  <svg xmlns=\"http://www.w3.org/2000/svg\" height=\"24px\"viewBox=\"0 0 24 24\"\n",
              "       width=\"24px\">\n",
              "    <path d=\"M0 0h24v24H0V0z\" fill=\"none\"/>\n",
              "    <path d=\"M18.56 5.44l.94 2.06.94-2.06 2.06-.94-2.06-.94-.94-2.06-.94 2.06-2.06.94zm-11 1L8.5 8.5l.94-2.06 2.06-.94-2.06-.94L8.5 2.5l-.94 2.06-2.06.94zm10 10l.94 2.06.94-2.06 2.06-.94-2.06-.94-.94-2.06-.94 2.06-2.06.94z\"/><path d=\"M17.41 7.96l-1.37-1.37c-.4-.4-.92-.59-1.43-.59-.52 0-1.04.2-1.43.59L10.3 9.45l-7.72 7.72c-.78.78-.78 2.05 0 2.83L4 21.41c.39.39.9.59 1.41.59.51 0 1.02-.2 1.41-.59l7.78-7.78 2.81-2.81c.8-.78.8-2.07 0-2.86zM5.41 20L4 18.59l7.72-7.72 1.47 1.35L5.41 20z\"/>\n",
              "  </svg>\n",
              "      </button>\n",
              "      \n",
              "  <style>\n",
              "    .colab-df-container {\n",
              "      display:flex;\n",
              "      flex-wrap:wrap;\n",
              "      gap: 12px;\n",
              "    }\n",
              "\n",
              "    .colab-df-convert {\n",
              "      background-color: #E8F0FE;\n",
              "      border: none;\n",
              "      border-radius: 50%;\n",
              "      cursor: pointer;\n",
              "      display: none;\n",
              "      fill: #1967D2;\n",
              "      height: 32px;\n",
              "      padding: 0 0 0 0;\n",
              "      width: 32px;\n",
              "    }\n",
              "\n",
              "    .colab-df-convert:hover {\n",
              "      background-color: #E2EBFA;\n",
              "      box-shadow: 0px 1px 2px rgba(60, 64, 67, 0.3), 0px 1px 3px 1px rgba(60, 64, 67, 0.15);\n",
              "      fill: #174EA6;\n",
              "    }\n",
              "\n",
              "    [theme=dark] .colab-df-convert {\n",
              "      background-color: #3B4455;\n",
              "      fill: #D2E3FC;\n",
              "    }\n",
              "\n",
              "    [theme=dark] .colab-df-convert:hover {\n",
              "      background-color: #434B5C;\n",
              "      box-shadow: 0px 1px 3px 1px rgba(0, 0, 0, 0.15);\n",
              "      filter: drop-shadow(0px 1px 2px rgba(0, 0, 0, 0.3));\n",
              "      fill: #FFFFFF;\n",
              "    }\n",
              "  </style>\n",
              "\n",
              "      <script>\n",
              "        const buttonEl =\n",
              "          document.querySelector('#df-34e0c2b1-e4b8-4929-aa92-9a75c739c2f5 button.colab-df-convert');\n",
              "        buttonEl.style.display =\n",
              "          google.colab.kernel.accessAllowed ? 'block' : 'none';\n",
              "\n",
              "        async function convertToInteractive(key) {\n",
              "          const element = document.querySelector('#df-34e0c2b1-e4b8-4929-aa92-9a75c739c2f5');\n",
              "          const dataTable =\n",
              "            await google.colab.kernel.invokeFunction('convertToInteractive',\n",
              "                                                     [key], {});\n",
              "          if (!dataTable) return;\n",
              "\n",
              "          const docLinkHtml = 'Like what you see? Visit the ' +\n",
              "            '<a target=\"_blank\" href=https://colab.research.google.com/notebooks/data_table.ipynb>data table notebook</a>'\n",
              "            + ' to learn more about interactive tables.';\n",
              "          element.innerHTML = '';\n",
              "          dataTable['output_type'] = 'display_data';\n",
              "          await google.colab.output.renderOutput(dataTable, element);\n",
              "          const docLink = document.createElement('div');\n",
              "          docLink.innerHTML = docLinkHtml;\n",
              "          element.appendChild(docLink);\n",
              "        }\n",
              "      </script>\n",
              "    </div>\n",
              "  </div>\n",
              "  "
            ],
            "text/plain": [
              "                                                                                  title  \\\n",
              "4f92eb8c-4239-4364-9ffc-a0b0bbabc535  S2B_MSIL2A_20190106T100409_N0211_R122_T31NEH_2...   \n",
              "ab40b37d-d1ae-4592-bb01-3ed0adf2527a  S2A_MSIL2A_20190101T100411_N0211_R122_T31NEH_2...   \n",
              "\n",
              "                                                                                   link  \\\n",
              "4f92eb8c-4239-4364-9ffc-a0b0bbabc535  https://scihub.copernicus.eu/dhus/odata/v1/Pro...   \n",
              "ab40b37d-d1ae-4592-bb01-3ed0adf2527a  https://scihub.copernicus.eu/dhus/odata/v1/Pro...   \n",
              "\n",
              "                                                                       link_alternative  \\\n",
              "4f92eb8c-4239-4364-9ffc-a0b0bbabc535  https://scihub.copernicus.eu/dhus/odata/v1/Pro...   \n",
              "ab40b37d-d1ae-4592-bb01-3ed0adf2527a  https://scihub.copernicus.eu/dhus/odata/v1/Pro...   \n",
              "\n",
              "                                                                              link_icon  \\\n",
              "4f92eb8c-4239-4364-9ffc-a0b0bbabc535  https://scihub.copernicus.eu/dhus/odata/v1/Pro...   \n",
              "ab40b37d-d1ae-4592-bb01-3ed0adf2527a  https://scihub.copernicus.eu/dhus/odata/v1/Pro...   \n",
              "\n",
              "                                                                                summary  \\\n",
              "4f92eb8c-4239-4364-9ffc-a0b0bbabc535  Date: 2019-01-06T10:04:09.024Z, Instrument: MS...   \n",
              "ab40b37d-d1ae-4592-bb01-3ed0adf2527a  Date: 2019-01-01T10:04:11.024Z, Instrument: MS...   \n",
              "\n",
              "                                     ondemand           ingestiondate  \\\n",
              "4f92eb8c-4239-4364-9ffc-a0b0bbabc535    false 2019-01-06 20:53:21.770   \n",
              "ab40b37d-d1ae-4592-bb01-3ed0adf2527a    false 2019-01-01 15:54:36.102   \n",
              "\n",
              "                                               beginposition  \\\n",
              "4f92eb8c-4239-4364-9ffc-a0b0bbabc535 2019-01-06 10:04:09.024   \n",
              "ab40b37d-d1ae-4592-bb01-3ed0adf2527a 2019-01-01 10:04:11.024   \n",
              "\n",
              "                                                 endposition  orbitnumber  \\\n",
              "4f92eb8c-4239-4364-9ffc-a0b0bbabc535 2019-01-06 10:04:09.024         9586   \n",
              "ab40b37d-d1ae-4592-bb01-3ed0adf2527a 2019-01-01 10:04:11.024        18423   \n",
              "\n",
              "                                      ...  platformidentifier  orbitdirection  \\\n",
              "4f92eb8c-4239-4364-9ffc-a0b0bbabc535  ...           2017-013A      DESCENDING   \n",
              "ab40b37d-d1ae-4592-bb01-3ed0adf2527a  ...           2015-028A      DESCENDING   \n",
              "\n",
              "                                      platformserialidentifier  \\\n",
              "4f92eb8c-4239-4364-9ffc-a0b0bbabc535               Sentinel-2B   \n",
              "ab40b37d-d1ae-4592-bb01-3ed0adf2527a               Sentinel-2A   \n",
              "\n",
              "                                      processingbaseline  processinglevel  \\\n",
              "4f92eb8c-4239-4364-9ffc-a0b0bbabc535               02.11         Level-2A   \n",
              "ab40b37d-d1ae-4592-bb01-3ed0adf2527a               02.11         Level-2A   \n",
              "\n",
              "                                      producttype  platformname     size  \\\n",
              "4f92eb8c-4239-4364-9ffc-a0b0bbabc535      S2MSI2A    Sentinel-2  1.02 GB   \n",
              "ab40b37d-d1ae-4592-bb01-3ed0adf2527a      S2MSI2A    Sentinel-2  1.02 GB   \n",
              "\n",
              "                                                                      uuid  \\\n",
              "4f92eb8c-4239-4364-9ffc-a0b0bbabc535  4f92eb8c-4239-4364-9ffc-a0b0bbabc535   \n",
              "ab40b37d-d1ae-4592-bb01-3ed0adf2527a  ab40b37d-d1ae-4592-bb01-3ed0adf2527a   \n",
              "\n",
              "                                                                               geometry  \n",
              "4f92eb8c-4239-4364-9ffc-a0b0bbabc535  POLYGON ((2.99982 7.23783, 3.99439 7.23674, 3....  \n",
              "ab40b37d-d1ae-4592-bb01-3ed0adf2527a  POLYGON ((2.99982 7.23783, 3.99439 7.23674, 3....  \n",
              "\n",
              "[2 rows x 35 columns]"
            ]
          },
          "execution_count": 7,
          "metadata": {},
          "output_type": "execute_result"
        }
      ],
      "source": [
        "products_gdf = api.to_geodataframe(products)\n",
        "products_gdf_sorted = products_gdf.sort_values(['cloudcoverpercentage'], ascending=[True])\n",
        "products_gdf_sorted"
      ]
    },
    {
      "cell_type": "markdown",
      "metadata": {
        "id": "8a048376"
      },
      "source": [
        "From the results that are acquired above, you can now download your Sentinel 2 data (specific) from the list of outputs."
      ]
    },
    {
      "cell_type": "code",
      "execution_count": null,
      "metadata": {
        "colab": {
          "base_uri": "https://localhost:8080/",
          "height": 336,
          "referenced_widgets": [
            "dbca7b5b97464bcd85cf11a8316104eb",
            "35a36a878575456d804eab76afdec13d",
            "1d9e63af72eb463fba4c0d9c4eb4d58c",
            "86ac101a1abc4482aa6811649f3e07fd",
            "400dad033b93480d90609e5df57a7272",
            "10fe732204db4248b0e179395a37a5da",
            "b94dc582c1334373991117d63c6d40ff",
            "01633c5ba5b84f0d9ba61bfceae3eb8d",
            "dafa7463637a4fbdaffd24b7b3635e95",
            "4605be92c25a4fe3bb756dfd113e739e",
            "9c2c7deea4234599974e0b154e3012fa",
            "1c983a78c7d4498cb5d512c30b9de973",
            "138a4740967640239c8a5cbec110484b",
            "3edd09f7629741128a1cb2a33e6c59df",
            "50881004913f42569eff4cadd3762a16",
            "261d13c2d4b34c6da146daf35b2389a7",
            "cef1093390904399920445f2fd849bfe",
            "0f89b73cb51a46a3a86c0d983e05643a",
            "d1729759d31e46eab2dd832a4435933c",
            "a8199b60f424482599dbfed0f63af40c",
            "3367060473d540e380aaac09d869ce9e",
            "846cd44de5b84c03b7cbc25daa28f8f5"
          ]
        },
        "id": "7f388680",
        "outputId": "a057cc55-1bc1-43ec-fb01-a10e068fba38"
      },
      "outputs": [
        {
          "data": {
            "application/vnd.jupyter.widget-view+json": {
              "model_id": "dbca7b5b97464bcd85cf11a8316104eb",
              "version_major": 2,
              "version_minor": 0
            },
            "text/plain": [
              "Downloading S2A_MSIL2A_20190101T100411_N0211_R122_T31NEH_20190101T122648.zip:   0%|          | 0.00/1.10G [00:…"
            ]
          },
          "metadata": {
            "application/vnd.jupyter.widget-view+json": {
              "colab": {
                "custom_widget_manager": {
                  "url": "https://ssl.gstatic.com/colaboratory-static/widgets/colab-cdn-widget-manager/a8874ba6619b6106/manager.min.js"
                }
              }
            }
          },
          "output_type": "display_data"
        },
        {
          "data": {
            "application/vnd.jupyter.widget-view+json": {
              "model_id": "846cd44de5b84c03b7cbc25daa28f8f5",
              "version_major": 2,
              "version_minor": 0
            },
            "text/plain": [
              "MD5 checksumming:   0%|          | 0.00/1.10G [00:00<?, ?B/s]"
            ]
          },
          "metadata": {
            "application/vnd.jupyter.widget-view+json": {
              "colab": {
                "custom_widget_manager": {
                  "url": "https://ssl.gstatic.com/colaboratory-static/widgets/colab-cdn-widget-manager/a8874ba6619b6106/manager.min.js"
                }
              }
            }
          },
          "output_type": "display_data"
        },
        {
          "data": {
            "text/plain": [
              "{'Creation Date': datetime.datetime(2019, 1, 1, 16, 3, 17, 192000),\n",
              " 'Ingestion Date': datetime.datetime(2019, 1, 1, 15, 54, 36, 102000),\n",
              " 'Online': True,\n",
              " 'date': datetime.datetime(2019, 1, 1, 10, 4, 11, 24000),\n",
              " 'downloaded_bytes': 1099405101,\n",
              " 'footprint': 'POLYGON((2.999818830996764 7.23782745247485,3.994385617464529 7.236741842485151,3.992363882297123 6.243634699399232,2.999819199414278 6.244570099446785,2.999818830996764 7.23782745247485))',\n",
              " 'id': 'ab40b37d-d1ae-4592-bb01-3ed0adf2527a',\n",
              " 'md5': 'b53789caf34ab20839aea9503364c0eb',\n",
              " 'path': 'S2A_MSIL2A_20190101T100411_N0211_R122_T31NEH_20190101T122648.zip',\n",
              " 'quicklook_url': \"https://scihub.copernicus.eu/dhus/odata/v1/Products('ab40b37d-d1ae-4592-bb01-3ed0adf2527a')/Products('Quicklook')/$value\",\n",
              " 'size': 1099405101,\n",
              " 'title': 'S2A_MSIL2A_20190101T100411_N0211_R122_T31NEH_20190101T122648',\n",
              " 'url': \"https://scihub.copernicus.eu/dhus/odata/v1/Products('ab40b37d-d1ae-4592-bb01-3ed0adf2527a')/$value\"}"
            ]
          },
          "execution_count": 48,
          "metadata": {},
          "output_type": "execute_result"
        }
      ],
      "source": [
        "api.download(\"ab40b37d-d1ae-4592-bb01-3ed0adf2527a\")"
      ]
    }
  ],
  "metadata": {
    "colab": {
      "authorship_tag": "ABX9TyMhd3HXAv9gwDgLBOmxfezW",
      "include_colab_link": true,
      "name": "Accessing Satellite Imagery Using Python.ipynb",
      "provenance": []
    },
    "kernelspec": {
      "display_name": "Python 3",
      "name": "python3"
    },
    "language_info": {
      "codemirror_mode": {
        "name": "ipython",
        "version": 3
      },
      "file_extension": ".py",
      "mimetype": "text/x-python",
      "name": "python",
      "nbconvert_exporter": "python",
      "pygments_lexer": "ipython3",
      "version": "3.12.0"
    }
  },
  "nbformat": 4,
  "nbformat_minor": 0
}
